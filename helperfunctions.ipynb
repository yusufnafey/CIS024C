{
 "cells": [
  {
   "cell_type": "code",
   "execution_count": null,
   "metadata": {
    "collapsed": true
   },
   "outputs": [],
   "source": [
    "def add(n1,n2):\n",
    "    return n1 + n2\n",
    "\n",
    "def diff(n1,n2):\n",
    "    return n1 - n2\n",
    "\n",
    "def product(n1,n2):\n",
    "    return n1 * n2\n",
    "\n",
    "def greatest(n1,n2):\n",
    "    if n1 > n2:\n",
    "        highest = n1\n",
    "    else:\n",
    "        highest = n2\n",
    "    return highest"
   ]
  }
 ],
 "metadata": {
  "kernelspec": {
   "display_name": "Python 2",
   "language": "python",
   "name": "python2"
  },
  "language_info": {
   "codemirror_mode": {
    "name": "ipython",
    "version": 2
   },
   "file_extension": ".py",
   "mimetype": "text/x-python",
   "name": "python",
   "nbconvert_exporter": "python",
   "pygments_lexer": "ipython2",
   "version": "2.7.13"
  }
 },
 "nbformat": 4,
 "nbformat_minor": 2
}
