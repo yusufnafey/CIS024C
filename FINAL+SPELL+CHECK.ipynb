{
 "cells": [
  {
   "cell_type": "code",
   "execution_count": 1,
   "metadata": {},
   "outputs": [
    {
     "name": "stdout",
     "output_type": "stream",
     "text": [
      "Please enter a paragraph: Indeed, he argued that sone of his characteristics that are oftwn cited as strengths, the lack of a central intermediary, for exampke, would keep it out of arm's reacj from a more mainstream audience. He also posited that the price volatility aroubd his makes it a poor methid of payment for most consumers.\n",
      "Indeed, he argued that one of his character\n",
      " that are often tired as strength, the lock of a general indemnify, for exempt, would keep it out of arm's reach from a more instead absence. He also posted that the prize liability around his makes it a poor this of payments for most consider.\n"
     ]
    }
   ],
   "source": [
    "import urllib\n",
    "\n",
    "# This function will calculate the edit distance for both the strings passed.\n",
    "def editDistFunc(s1, s2):\n",
    "    m = len(s1)   # length of first string\n",
    "    n = len(s2)   # length of second string\n",
    "\n",
    "    # Create a 2D list in of dimension (m+1)*(n+1)\n",
    "    # fill all the entries as 0 initially\n",
    "    # res[i][j] calculates the minimum distance between s1 upto ith index and s2 upto jth index\n",
    "    res = [[0 for x in range(n+1)] for x in range(m+1)]\n",
    "\n",
    "    # loop through the first string\n",
    "    for i in range(m+1):\n",
    "      # loop through the second string\n",
    "        for j in range(n+1):\n",
    "            # If s1 is empty, insert all characters of s2\n",
    "            if i == 0:\n",
    "              res[i][j] = j \n",
    "\n",
    "            # If s2 is empty, remove all characters of s1\n",
    "            elif j == 0:\n",
    "              res[i][j] = i\n",
    "\n",
    "            # If last characters are same,recur for remaining strings s1 and s2\n",
    "            elif s1[i-1] == s2[j-1]:\n",
    "              res[i][j] = res[i-1][j-1]\n",
    "\n",
    "            # If last characters of s1 and s2 are not same, consider all\n",
    "            # possibilities and find minimum distance\n",
    "            else:\n",
    "              res[i][j] = 1 + min(res[i][j-1],      # Insert\n",
    "                                  res[i-1][j],      # Remove\n",
    "                                  res[i-1][j-1])    # Replace\n",
    "\n",
    "    return res[m][n]\n",
    "\n",
    "# This function takes the paragraph entered by user as an argument and returns the corrected\n",
    "# paragraph based on the minimum edit distance\n",
    "def correct(inp):\n",
    "  # Download the file from the below url\n",
    "  url = \"http://www.gutenberg.org/files/11/11-0.txt\";\n",
    "  # read all the data\n",
    "  data = urllib.urlopen(url).read()\n",
    "\n",
    "  # remove all the punctuation\n",
    "  data = ''.join(ch for ch in data if ch.isalnum() or ch.isspace())\n",
    "\n",
    "  # split the data based on the space , now we have list of words\n",
    "  data = data.split(' ')\n",
    "\n",
    "  # remove the duplicate words from the data list\n",
    "  data = list(set(data))\n",
    "\n",
    "  # remove all the punctuation from the input paragraph \n",
    "  # store paragraph into a newInp, do not overwrite the original paragraph\n",
    "  newInp = ''.join(ch for ch in inp if ch.isalnum() or ch.isspace())\n",
    "\n",
    "  # split the input based on space , now we have list of input words\n",
    "  inpL = newInp.split(' ')\n",
    "\n",
    "  # enumaerate through all the words\n",
    "  for idx, word in enumerate(inpL):\n",
    "    minEdit = 999999 # take a long number in random\n",
    "    matchedWord = word # set matched word to the original word\n",
    "    if word in data: # if the input word is in data, means the word is correctly spelled , so simply continue\n",
    "      continue\n",
    "    for d in data: # for all the words in data list, check the edit distance of each word in data and each word in input\n",
    "      editDist = editDistFunc(word, d)\n",
    "      if editDist < minEdit: # if the distance calculated is lesser than the minimum distance calculated so far, update it\n",
    "        minEdit = editDist\n",
    "        matchedWord = d # update the matched word also\n",
    "    inp = inp.replace(word, matchedWord) # replace the best matched word with the original word\n",
    "\n",
    "  return inp # return the corrected input  paragraph\n",
    "      \n",
    "\n",
    "# main function\n",
    "if __name__ == \"__main__\":\n",
    "  # take input from user\n",
    "  inp = raw_input(\"Please enter a paragraph: \")\n",
    "  # correct the input paragraph\n",
    "  outp = correct(inp)\n",
    "  # print the output\n",
    "  print outp"
   ]
  },
  {
   "cell_type": "code",
   "execution_count": null,
   "metadata": {
    "collapsed": true
   },
   "outputs": [],
   "source": []
  }
 ],
 "metadata": {
  "kernelspec": {
   "display_name": "Python 2",
   "language": "python",
   "name": "python2"
  },
  "language_info": {
   "codemirror_mode": {
    "name": "ipython",
    "version": 2
   },
   "file_extension": ".py",
   "mimetype": "text/x-python",
   "name": "python",
   "nbconvert_exporter": "python",
   "pygments_lexer": "ipython2",
   "version": "2.7.13"
  }
 },
 "nbformat": 4,
 "nbformat_minor": 2
}
