{
 "cells": [
  {
   "cell_type": "markdown",
   "metadata": {},
   "source": [
    "\n",
    "# CIS024C - Fall 2017 - Thursday 5:30-9:25pm \n",
    "\n",
    "## Homework 8\n",
    "\n",
    "Homework 8 covers exercises that using external libraries and creating user defined libraries\n",
    "\n",
    "The below sites have some interesting and useful information on working with files\n",
    "\n",
    "https://docs.python.org/2/library/index.html\n",
    "\n",
    "You will need to download this notebook and use this as a starting point for your homework. You will just need to fill in the content of each code-block (cell) and execute. Once you have completed all the exercises, you will need to save and upload this to your github repository under a folder called hw7.\n",
    "\n",
    "Note also the exercises build on top of one another so you might be able to do the next exercise if you have not completed the previous exercise.\n",
    "\n",
    "Post any questions you have on our Slack at **cis-024c1.slack.com**\n",
    "\n",
    "** Slides ** for Week 8 can be found at \n",
    "\n",
    "https://docs.google.com/presentation/d/1HcWIuVciM0_L935Umi5rPgQHJYIv1bNfYnErfOelbtw/edit?usp=sharing\n",
    "\n",
    "**Please refer back to hw1 and slack for instructions on how to setup your computer for developing using Python.**"
   ]
  },
  {
   "cell_type": "markdown",
   "metadata": {},
   "source": [
    "### Helpful Jupyter Commands\n",
    "\n",
    "Below are some useful commands to know when using Jupyter\n",
    "\n",
    "1. You can add a new cell by clicking on the \"+\" icon on top.\n",
    "2. You can delete a cell by selecting that cell and clicking on the \"scissors\" icon on top.\n",
    "3. You can execute a cell by either pressing shift+enter or selecting the \"play\" button on top.\n",
    "4. You can create a new file in Jupyter via the File menu->New Notebook option. Make sure to select Python 2 when creating your notebook.\n",
    "5. Also, for your code blocks make sure that Code is selected instead of another option like Markdown.\n",
    "6. Use the Enter key to go to the next line in a cell to enter the next statement.\n",
    "7. You can clear results by clicking on the Cell menu item and selecting Current Output->Clear or All Output->Clear depending on whether you are trying to just clear the output for one cell or for all cells.\n",
    "8. In case your program has crashed for some reason (infinite loop, for example), you can restart your Python session by select Kernel in the menu and selecting Restart.\n"
   ]
  },
  {
   "cell_type": "markdown",
   "metadata": {},
   "source": [
    "#### Check Python Version"
   ]
  },
  {
   "cell_type": "code",
   "execution_count": null,
   "metadata": {
    "collapsed": true
   },
   "outputs": [],
   "source": [
    "!python --version"
   ]
  },
  {
   "cell_type": "markdown",
   "metadata": {},
   "source": [
    "#### Sample Exercises with Exception Handling\n",
    "\n",
    "Week 8 Class Work can be found here\n",
    "\n",
    "https://github.com/cis024c/fall2017classwork/tree/master/week8"
   ]
  },
  {
   "cell_type": "markdown",
   "metadata": {},
   "source": [
    "**Exercise 1 - Testing your knowledge of External Libraries **\n",
    "\n",
    "Answer the below questions\n",
    "\n",
    "1. Name two benefits of using external libraries.\n",
    "2. What are the different ways of including an external library in a Python program?"
   ]
  },
  {
   "cell_type": "markdown",
   "metadata": {},
   "source": [
    "<< Double click this cell and enter your result >>\n",
    "1. One benefit of using an external library is that you can create programs a lot faster because you do not need to rewrite a lot of code or functions. Another benefit is that the code in your program can be a lot cleaner and simplified with the use of an external library.\n",
    "2. You can import modules by using the \"import\", or you can even use the \"from\" as well as the \"import\" to import certain members of a module. "
   ]
  },
  {
   "cell_type": "markdown",
   "metadata": {},
   "source": [
    "#### Exercise 2 -  Using the math library\n",
    "\n",
    "Import the math library in your program and do the following\n",
    "\n",
    "1. Request the user to enter a number between 1 and 10\n",
    "2. Compute the log (math.log) of the number\n",
    "3. Compute teh factorial (math.factorial) of the number\n",
    "4. Compute the square root (math.sqrt) of the number\n",
    "5. Compute the sine (math.sin) of the number\n",
    "\n",
    "Refer to https://docs.python.org/2/library/math.html for more information on the math library\n"
   ]
  },
  {
   "cell_type": "code",
   "execution_count": 7,
   "metadata": {},
   "outputs": [
    {
     "name": "stdout",
     "output_type": "stream",
     "text": [
      "Enter number: 10\n",
      "Log: 2.30258509299\n",
      "Factorial: 3628800\n",
      "Square Root: 3.16227766017\n",
      "Sine: -0.544021110889\n"
     ]
    }
   ],
   "source": [
    "### YOUR CODE GOES \n",
    "import math\n",
    "\n",
    "number = int(raw_input(\"Enter number: \"))\n",
    "\n",
    "print \"Log:\", math.log(number)\n",
    "\n",
    "print \"Factorial:\", math.factorial(number)\n",
    "\n",
    "print \"Square Root:\", math.sqrt(number)\n",
    "\n",
    "print \"Sine:\", math.sin(number)\n",
    "\n",
    "### END CODE"
   ]
  },
  {
   "cell_type": "markdown",
   "metadata": {},
   "source": [
    "#### Exercise 3 - Random numbers\n",
    "\n",
    "Generate a list of 10 random numbers between 1 and 100. Use random.sample function. Write a program to then sort the list of numbers in ascending order."
   ]
  },
  {
   "cell_type": "code",
   "execution_count": 12,
   "metadata": {},
   "outputs": [
    {
     "name": "stdout",
     "output_type": "stream",
     "text": [
      "Random Numbers: [38, 91, 84, 9, 79, 27, 31, 61, 68, 24]\n",
      "Sorted Random Numbers: [9, 24, 27, 31, 38, 61, 68, 79, 84, 91]\n"
     ]
    }
   ],
   "source": [
    "### YOUR CODE GOES BELOW\n",
    "import random\n",
    "\n",
    "randomNumbers = random.sample(range(100),10)\n",
    "\n",
    "print \"Random Numbers:\", randomNumbers\n",
    "\n",
    "print \"Sorted Random Numbers:\", sorted(randomNumbers)\n",
    "\n",
    "### END CODE"
   ]
  },
  {
   "cell_type": "markdown",
   "metadata": {},
   "source": [
    "#### Exercise 4 - Creating your own library\n",
    "\n",
    "Create a python module **helperfunctions.py** with the following functions.\n",
    "\n",
    "1. add - returns the sum of two numbers\n",
    "2. diff - returns the difference between two numbers\n",
    "3. product - returns the product of two numbers\n",
    "4. greatest - returns the greatest of two numbers.\n",
    "\n",
    "Import this module in your python program and use the functions your created on any two numbers and print the result.\n",
    "\n",
    "Note: Upload the **helperfunctions.py** module to your github folder along with the notebook file. You can also upload **helperfunctions.py** to Canvas if you are having trouble copying it to Github"
   ]
  },
  {
   "cell_type": "code",
   "execution_count": 20,
   "metadata": {},
   "outputs": [
    {
     "name": "stdout",
     "output_type": "stream",
     "text": [
      "Enter first number: 10\n",
      "Enter second number: 3\n",
      "Sum: 13\n",
      "Difference: 7\n",
      "Product: 30\n",
      "Greatest: 10\n"
     ]
    }
   ],
   "source": [
    "### YOUR CODE GOES BELOW\n",
    "from helperfunctions import *\n",
    "\n",
    "x = int(raw_input(\"Enter first number: \"))\n",
    "y = int(raw_input(\"Enter second number: \"))\n",
    "\n",
    "print \"Sum:\", add(x,y)\n",
    "print \"Difference:\", diff(x,y)\n",
    "print \"Product:\", product(x,y)\n",
    "print \"Greatest:\", greatest(x,y)\n",
    "\n",
    "### END CODE"
   ]
  },
  {
   "cell_type": "markdown",
   "metadata": {},
   "source": [
    "#### Exercise 5 - Compressing a file using the zlib library\n",
    "\n",
    "Download the story Alice in Wonderland from the link below http://www.gutenberg.org/files/11/11.txt and save it as the file alice.txt\n",
    "\n",
    "Write a python program to open this file in your program. Use the zlib library to compress the contents of the file and write it back to another file call alice_compressed.txt\n",
    "\n",
    "Now, open the file alice_compressed.txt, decompress using the zlib library and display the results on the screen.\n",
    "\n",
    "Refer to Week 8 lecture slides and classwork for information on how to use zlib. \n"
   ]
  },
  {
   "cell_type": "code",
   "execution_count": 56,
   "metadata": {},
   "outputs": [
    {
     "ename": "TypeError",
     "evalue": "compress() argument 1 must be string or read-only buffer, not file",
     "output_type": "error",
     "traceback": [
      "\u001b[1;31m\u001b[0m",
      "\u001b[1;31mTypeError\u001b[0mTraceback (most recent call last)",
      "\u001b[1;32m<ipython-input-56-0cd76f09bd8c>\u001b[0m in \u001b[0;36m<module>\u001b[1;34m()\u001b[0m\n\u001b[0;32m     12\u001b[0m \u001b[1;32mimport\u001b[0m \u001b[0mzlib\u001b[0m\u001b[1;33m\u001b[0m\u001b[0m\n\u001b[0;32m     13\u001b[0m \u001b[1;33m\u001b[0m\u001b[0m\n\u001b[1;32m---> 14\u001b[1;33m \u001b[0mx\u001b[0m \u001b[1;33m=\u001b[0m \u001b[0mzlib\u001b[0m\u001b[1;33m.\u001b[0m\u001b[0mcompress\u001b[0m\u001b[1;33m(\u001b[0m\u001b[0mf\u001b[0m\u001b[1;33m)\u001b[0m\u001b[1;33m\u001b[0m\u001b[0m\n\u001b[0m\u001b[0;32m     15\u001b[0m \u001b[1;33m\u001b[0m\u001b[0m\n\u001b[0;32m     16\u001b[0m \u001b[0mg\u001b[0m \u001b[1;33m=\u001b[0m \u001b[0mopen\u001b[0m\u001b[1;33m(\u001b[0m\u001b[1;34m\"C:\\Users\\Yusuf Nafey\\Desktop\\Python CIS 024C\\\\alice_compressed.txt\"\u001b[0m\u001b[1;33m,\u001b[0m \u001b[1;34m\"a\"\u001b[0m\u001b[1;33m)\u001b[0m\u001b[1;33m\u001b[0m\u001b[0m\n",
      "\u001b[1;31mTypeError\u001b[0m: compress() argument 1 must be string or read-only buffer, not file"
     ]
    }
   ],
   "source": [
    "### YOUR CODE GOES BELOW\n",
    "\n",
    "\n",
    "### NOTE FOR THIS EXERCISE: I had trouble with a few things when doing this exercise. First of all when I was opening the file,\n",
    "### I got an IOError saying that I had the incorrect filename, which I didn't, I noticed that when I put a second \\ in the file\n",
    "### location, it seemed to work. Next, I was a little confused with the zlib functions so I referred back to to the slides and \n",
    "### classwork and followed the model there, however it wasn't working. I had a TypeError saying \"compress() argument 1 must be \n",
    "### string or read-only buffer, not file\". From here on out I wasn't able to test anything, but I tried to write the program\n",
    "### as best I could, even though I wasn't able to check back to test out the program and fix any errors.\n",
    "\n",
    "\n",
    "\n",
    "f = open(\"C:\\Users\\Yusuf Nafey\\Desktop\\Python CIS 024C\\\\alice.txt\")\n",
    "\n",
    "import zlib\n",
    "\n",
    "x = zlib.compress(f)\n",
    "\n",
    "g = open(\"C:\\Users\\Yusuf Nafey\\Desktop\\Python CIS 024C\\\\alice_compressed.txt\", \"a\")\n",
    "\n",
    "g.write(x)\n",
    "\n",
    "print zlib.decompress(g)\n",
    "\n",
    "### END CODE"
   ]
  },
  {
   "cell_type": "markdown",
   "metadata": {},
   "source": [
    "## OPTIONAL EXERCISES\n",
    "\n",
    "Below is a set of optional exercises. These will not be graded but the solutions will be posted. I would strongly encourage you to try these out if you are done with the mandatory homework exercises to improve your understanding of python."
   ]
  },
  {
   "cell_type": "markdown",
   "metadata": {},
   "source": [
    "#### Exercise 6\n",
    "\n",
    "Recall the similarity function to compute the edit distance in homework 7 and classwork 7. \n",
    "\n",
    "Create a Python module using the similarity function. Write a Python program to invoke the similarity function on any word entered by the user."
   ]
  },
  {
   "cell_type": "code",
   "execution_count": null,
   "metadata": {
    "collapsed": true
   },
   "outputs": [],
   "source": [
    "### YOUR CODE GOES BELOW\n",
    "\n",
    "\n",
    "    \n",
    "### END CODE"
   ]
  },
  {
   "cell_type": "markdown",
   "metadata": {},
   "source": [
    "#### Exercise 7\n",
    "\n",
    "Write a Python program using the urrlib2 library to print all the URLs present on the website http://www.cnn.com\n",
    "\n",
    "Note that you will need to search for href tags in order to locate links. An easier option is to use an HTML parser module to parse the website and then you can query it for a set of links. \n",
    "\n"
   ]
  },
  {
   "cell_type": "code",
   "execution_count": 6,
   "metadata": {
    "collapsed": true
   },
   "outputs": [],
   "source": [
    "### YOUR CODE GOES BELOW\n",
    "\n",
    "\n",
    "### END CODE"
   ]
  },
  {
   "cell_type": "markdown",
   "metadata": {},
   "source": [
    "#### Exercise 8\n",
    "\n",
    "Write a Python program to use the Twitter library tweepy to retrieve a set of tweets from the internet.\n",
    "\n",
    "More information on how to do this can be found here\n",
    "\n",
    "http://docs.tweepy.org/en/v3.5.0/"
   ]
  },
  {
   "cell_type": "code",
   "execution_count": 7,
   "metadata": {
    "collapsed": true
   },
   "outputs": [],
   "source": [
    "### YOUR CODE GOES BELOW\n",
    "\n",
    "\n",
    "### END CODE"
   ]
  },
  {
   "cell_type": "code",
   "execution_count": null,
   "metadata": {
    "collapsed": true
   },
   "outputs": [],
   "source": []
  }
 ],
 "metadata": {
  "kernelspec": {
   "display_name": "Python 2",
   "language": "python",
   "name": "python2"
  },
  "language_info": {
   "codemirror_mode": {
    "name": "ipython",
    "version": 2
   },
   "file_extension": ".py",
   "mimetype": "text/x-python",
   "name": "python",
   "nbconvert_exporter": "python",
   "pygments_lexer": "ipython2",
   "version": "2.7.13"
  }
 },
 "nbformat": 4,
 "nbformat_minor": 2
}
